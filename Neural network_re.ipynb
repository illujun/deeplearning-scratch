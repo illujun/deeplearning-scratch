{
 "cells": [
  {
   "cell_type": "code",
   "execution_count": 1,
   "id": "18638154",
   "metadata": {},
   "outputs": [],
   "source": [
    "import torch\n",
    "\n",
    "def step_function(x):\n",
    "    y = x > 0\n",
    "    return y.int()  \n"
   ]
  },
  {
   "cell_type": "code",
   "execution_count": 2,
   "id": "15f8891e",
   "metadata": {},
   "outputs": [
    {
     "data": {
      "image/png": "[encoded data removed]",
      "text/plain": [
       "<Figure size 640x480 with 1 Axes>"
      ]
     },
     "metadata": {},
     "output_type": "display_data"
    }
   ],
   "source": [
    "import matplotlib.pyplot as plt\n",
    "\n",
    "def step_function(x):\n",
    "    return (x > 0).int() \n",
    "\n",
    "x = torch.arange(-3.0, 7.0, 0.1)\n",
    "y = step_function(x)\n",
    "\n",
    "plt.plot(x.numpy(), y.numpy())\n",
    "plt.ylim(-0.1, 1.1)\n",
    "plt.show()\n"
   ]
  },
  {
   "cell_type": "code",
   "execution_count": 3,
   "id": "939fc663",
   "metadata": {},
   "outputs": [],
   "source": [
    "def sigmoid(x):\n",
    "    return torch.sigmoid(x)"
   ]
  },
  {
   "cell_type": "code",
   "execution_count": 4,
   "id": "8f784c7e",
   "metadata": {},
   "outputs": [
    {
     "data": {
      "text/plain": [
       "tensor([0.2689, 0.7311, 0.8808])"
      ]
     },
     "execution_count": 4,
     "metadata": {},
     "output_type": "execute_result"
    }
   ],
   "source": [
    "x = torch.tensor([-1.0, 1.0, 2.0])\n",
    "sigmoid(x)"
   ]
  },
  {
   "cell_type": "code",
   "execution_count": 5,
   "id": "5acde798",
   "metadata": {},
   "outputs": [
    {
     "name": "stdout",
     "output_type": "stream",
     "text": [
      "tensor([2., 3., 4.])\n",
      "tensor([1.0000, 0.5000, 0.3333])\n"
     ]
    }
   ],
   "source": [
    "t = torch.tensor([1.0, 2.0, 3.0])\n",
    "print(t + 1.0)\n",
    "print(1.0 / t)\n"
   ]
  },
  {
   "cell_type": "code",
   "execution_count": null,
   "id": "70dfad52",
   "metadata": {},
   "outputs": [
    {
     "data": {
      "image/png": "[encoded data removed]",
      "text/plain": [
       "<Figure size 640x480 with 1 Axes>"
      ]
     },
     "metadata": {},
     "output_type": "display_data"
    }
   ],
   "source": [
    "x = torch.arange(-3.0, 7.0, 0.1)\n",
    "y = sigmoid(x)\n",
    "\n",
    "plt.plot(x.numpy(), y.numpy())\n",
    "plt.ylim(-0.1, 1.1)\n",
    "plt.show()"
   ]
  },
  {
   "cell_type": "code",
   "execution_count": 7,
   "id": "bfd34d58",
   "metadata": {},
   "outputs": [],
   "source": [
    "def relu(x):\n",
    "    return torch.relu(x)"
   ]
  },
  {
   "cell_type": "code",
   "execution_count": 8,
   "id": "3a4a43bf",
   "metadata": {},
   "outputs": [
    {
     "name": "stdout",
     "output_type": "stream",
     "text": [
      "tensor([1, 2, 3, 4])\n",
      "1\n",
      "torch.Size([4])\n",
      "4\n"
     ]
    }
   ],
   "source": [
    "A = torch.tensor([1,2,3,4])\n",
    "print(A)\n",
    "print(A.ndimension())\n",
    "print(A.shape)\n",
    "print(A.shape[0])"
   ]
  },
  {
   "cell_type": "code",
   "execution_count": 9,
   "id": "d5d0b700",
   "metadata": {},
   "outputs": [
    {
     "name": "stdout",
     "output_type": "stream",
     "text": [
      "tensor([[1, 2],\n",
      "        [3, 4],\n",
      "        [5, 6]])\n",
      "2\n",
      "torch.Size([3, 2])\n"
     ]
    }
   ],
   "source": [
    "B = torch.tensor([[1,2],[3,4],[5,6]])\n",
    "print(B)\n",
    "print(B.ndimension())\n",
    "print(B.shape)"
   ]
  },
  {
   "cell_type": "code",
   "execution_count": 10,
   "id": "51af56ec",
   "metadata": {},
   "outputs": [
    {
     "name": "stdout",
     "output_type": "stream",
     "text": [
      "torch.Size([2, 2])\n",
      "torch.Size([2, 2])\n",
      "tensor([[19., 22.],\n",
      "        [43., 50.]])\n"
     ]
    }
   ],
   "source": [
    "A = torch.tensor([[1.0, 2.0], [3.0, 4.0]])\n",
    "print(A.shape)\n",
    "\n",
    "B = torch.tensor([[5.0, 6.0], [7.0, 8.0]])\n",
    "print(B.shape) \n",
    "\n",
    "result = torch.matmul(A, B) \n",
    "print(result)"
   ]
  },
  {
   "cell_type": "code",
   "execution_count": 11,
   "id": "c8acfb62",
   "metadata": {},
   "outputs": [
    {
     "name": "stdout",
     "output_type": "stream",
     "text": [
      "torch.Size([2, 3])\n",
      "torch.Size([3, 2])\n"
     ]
    },
    {
     "data": {
      "text/plain": [
       "tensor([[22, 28],\n",
       "        [49, 64]])"
      ]
     },
     "execution_count": 11,
     "metadata": {},
     "output_type": "execute_result"
    }
   ],
   "source": [
    "A = torch.tensor([[1,2,3],[4,5,6]])\n",
    "print(A.shape)\n",
    "B = torch.tensor([[1,2],[3,4],[5,6]])\n",
    "print(B.shape)\n",
    "torch.matmul(A, B)"
   ]
  },
  {
   "cell_type": "code",
   "execution_count": 12,
   "id": "4f40c96b",
   "metadata": {},
   "outputs": [],
   "source": [
    "#C= torch.tensor([[1,2],[3,4]])\n",
    "#print(C.shape)\n",
    "#print(A.shape)\n",
    "\n",
    "#torch.matmul(A, C)"
   ]
  },
  {
   "cell_type": "code",
   "execution_count": 13,
   "id": "f587a4b6",
   "metadata": {},
   "outputs": [
    {
     "name": "stdout",
     "output_type": "stream",
     "text": [
      "torch.Size([3, 2])\n",
      "torch.Size([2])\n"
     ]
    },
    {
     "data": {
      "text/plain": [
       "tensor([23, 53, 83])"
      ]
     },
     "execution_count": 13,
     "metadata": {},
     "output_type": "execute_result"
    }
   ],
   "source": [
    "A =torch.tensor([[1,2],[3,4],[5,6]])\n",
    "print(A.shape)\n",
    "B = torch.tensor([7,8])\n",
    "print(B.shape)\n",
    "torch.matmul(A, B)  "
   ]
  },
  {
   "cell_type": "code",
   "execution_count": 14,
   "id": "ca1bcaed",
   "metadata": {},
   "outputs": [
    {
     "name": "stdout",
     "output_type": "stream",
     "text": [
      "torch.Size([2])\n",
      "torch.Size([2, 3])\n",
      "tensor([ 5, 11, 17])\n"
     ]
    }
   ],
   "source": [
    "x = torch.tensor([1,2])\n",
    "print(x.shape)\n",
    "w = torch.tensor([[1,3,5],[2,4,6]])\n",
    "print(w.shape)\n",
    "y = torch.matmul(x, w)\n",
    "\n",
    "print(y)"
   ]
  },
  {
   "cell_type": "code",
   "execution_count": 15,
   "id": "ea82cb11",
   "metadata": {},
   "outputs": [
    {
     "name": "stdout",
     "output_type": "stream",
     "text": [
      "torch.Size([2, 3])\n",
      "torch.Size([2])\n",
      "torch.Size([3])\n"
     ]
    }
   ],
   "source": [
    "x = torch.tensor([1.0, 0.5])\n",
    "W1 = torch.tensor([[0.1, 0.3, 0.5], [0.2, 0.4, 0.6]])\n",
    "b1 = torch.tensor([0.1, 0.2, 0.3])\n",
    "\n",
    "print(W1.shape)\n",
    "print(x.shape)\n",
    "print(b1.shape)\n",
    "\n",
    "a1 = torch.matmul(x, W1) + b1"
   ]
  },
  {
   "cell_type": "code",
   "execution_count": 16,
   "id": "78c8b8f5",
   "metadata": {},
   "outputs": [
    {
     "name": "stdout",
     "output_type": "stream",
     "text": [
      "tensor([0.3000, 0.7000, 1.1000])\n",
      "tensor([0.5744, 0.6682, 0.7503])\n"
     ]
    }
   ],
   "source": [
    "z1 = sigmoid(a1)\n",
    "\n",
    "print(a1)\n",
    "print(z1)"
   ]
  },
  {
   "cell_type": "code",
   "execution_count": 17,
   "id": "b5586d39",
   "metadata": {},
   "outputs": [
    {
     "name": "stdout",
     "output_type": "stream",
     "text": [
      "torch.Size([3])\n",
      "torch.Size([3, 2])\n",
      "torch.Size([2])\n"
     ]
    }
   ],
   "source": [
    "W2 = torch.tensor([[0.1, 0.4], [0.2, 0.5], [0.3, 0.6]])\n",
    "b2 = torch.tensor([0.1, 0.2])\n",
    "\n",
    "print(z1.shape)\n",
    "print(W2.shape)\n",
    "print(b2.shape)\n",
    "\n",
    "a2 = torch.matmul(z1, W2) + b2\n",
    "z2 = sigmoid(a2)"
   ]
  },
  {
   "cell_type": "code",
   "execution_count": 18,
   "id": "2ebbce4b",
   "metadata": {},
   "outputs": [
    {
     "name": "stdout",
     "output_type": "stream",
     "text": [
      "tensor([0.3168, 0.6963])\n"
     ]
    }
   ],
   "source": [
    "def identity_function(x):\n",
    "    return x\n",
    "\n",
    "W3 = torch.tensor([[0.1, 0.3], [0.2, 0.4]])\n",
    "b3 = torch.tensor([0.1, 0.2])\n",
    "\n",
    "a3 = torch.matmul(z2, W3) + b3\n",
    "y = identity_function(a3)\n",
    "\n",
    "print(y)"
   ]
  },
  {
   "cell_type": "code",
   "execution_count": null,
   "id": "886d4267",
   "metadata": {},
   "outputs": [],
   "source": [
    "import torch\n",
    "\n",
    "def init_network():\n",
    "    network = {}\n",
    "    network['w1'] = torch.tensor([[0.1, 0.3, 0.5], [0.2, 0.4, 0.6]])\n",
    "    network['b1'] = torch.tensor([0.1, 0.2, 0.3])\n",
    "    network['w2'] = torch.tensor([[0.1, 0.4], [0.2, 0.5], [0.3, 0.6]])\n",
    "    network['b2'] = torch.tensor([0.1, 0.2])\n",
    "    network['w3'] = torch.tensor([[0.1, 0.3], [0.2, 0.4]])\n",
    "    network['b3'] = torch.tensor([0.1, 0.2])\n",
    "    \n",
    "    return network\n",
    "def forward(network, x):\n",
    "    w1, w2, w3 = network['w1'], network['w2'], network['w3']\n",
    "    b1, b2, b3 = network['b1'], network['b2'], network['b3']\n",
    "    \n",
    "    a1 = torch.matmul(x, w1) + b1\n",
    "    z1 = sigmoid(a1)\n",
    "    a2 = torch.matmul(z1, w2) + b2\n",
    "    z2 = sigmoid(a2)\n",
    "    a3 = torch.matmul(z2, w3) + b3\n",
    "    y = identity_function(a3)\n",
    "    \n",
    "    return y\n",
    "\n",
    "network = init_network()\n",
    "\n",
    "x = torch.tensor([1.0, 0.5])\n",
    "y = forward(network, x)\n",
    "print(y)"
   ]
  },
  {
   "cell_type": "code",
   "execution_count": null,
   "id": "029769a4",
   "metadata": {},
   "outputs": [],
   "source": []
  },
  {
   "cell_type": "code",
   "execution_count": null,
   "id": "cbac53ba",
   "metadata": {},
   "outputs": [
    {
     "name": "stdout",
     "output_type": "stream",
     "text": [
      "tensor([0.3168, 0.6963])\n"
     ]
    }
   ],
   "source": []
  },
  {
   "cell_type": "code",
   "execution_count": 37,
   "id": "cf47fac5",
   "metadata": {},
   "outputs": [
    {
     "name": "stdout",
     "output_type": "stream",
     "text": [
      "tensor([   1.3499,   18.1741, 1096.6332])\n",
      "tensor(1116.1572)\n",
      "tensor([0.0012, 0.0163, 0.9825])\n"
     ]
    }
   ],
   "source": [
    "a = torch.tensor([0.3, 2.9, 7.0])\n",
    "exp_a = torch.exp(a)\n",
    "print(exp_a)\n",
    "\n",
    "sum_exp_a = torch.sum(exp_a)\n",
    "print(sum_exp_a)\n",
    "\n",
    "y = exp_a / sum_exp_a\n",
    "print(y)"
   ]
  },
  {
   "cell_type": "code",
   "execution_count": 23,
   "id": "1d26c188",
   "metadata": {},
   "outputs": [],
   "source": [
    "def softmax(a):\n",
    "    c = torch.max(a)\n",
    "    exp_a = torch.exp(a - c)   # 오버플로 대책\n",
    "    sum_exp_a = torch.sum(exp_a)\n",
    "    y = exp_a / sum_exp_a\n",
    "\n",
    "    return y"
   ]
  },
  {
   "cell_type": "code",
   "execution_count": 24,
   "id": "d5122b67",
   "metadata": {},
   "outputs": [
    {
     "data": {
      "text/plain": [
       "tensor([9.9995e-01, 4.5398e-05, 2.0611e-09])"
      ]
     },
     "execution_count": 24,
     "metadata": {},
     "output_type": "execute_result"
    }
   ],
   "source": [
    "a = torch.tensor([1010, 1000, 990])\n",
    "#np.exp(a) / np.sum(np.exp(a))\n",
    "\n",
    "c = torch.max(a)\n",
    "a - c\n",
    "\n",
    "torch.exp(a - c) / torch.sum(torch.exp(a - c))"
   ]
  },
  {
   "cell_type": "code",
   "execution_count": 25,
   "id": "ad7ee15a",
   "metadata": {},
   "outputs": [
    {
     "name": "stdout",
     "output_type": "stream",
     "text": [
      "tensor([0.0182, 0.2452, 0.7366])\n"
     ]
    },
    {
     "data": {
      "text/plain": [
       "tensor(1.)"
      ]
     },
     "execution_count": 25,
     "metadata": {},
     "output_type": "execute_result"
    }
   ],
   "source": [
    "a = torch.tensor([0.3, 2.9, 4.0])\n",
    "y = softmax(a)\n",
    "\n",
    "print(y)\n",
    "torch.sum(y)"
   ]
  },
  {
   "cell_type": "code",
   "execution_count": 26,
   "id": "6936460f",
   "metadata": {},
   "outputs": [
    {
     "name": "stdout",
     "output_type": "stream",
     "text": [
      "(60000, 784)\n",
      "(60000,)\n",
      "(10000, 784)\n",
      "(10000,)\n"
     ]
    }
   ],
   "source": [
    "import sys, os\n",
    "# 현재 작업 경로를 기준으로 상위 폴더 추가\n",
    "sys.path.append(os.path.join(os.path.dirname(os.getcwd()), 'deeplearning'))\n",
    "from dataset.mnist import load_mnist\n",
    "\n",
    "(x_train, t_train), (x_test, t_test) = load_mnist(flatten=True, normalize=False)\n",
    "\n",
    "print(x_train.shape)\n",
    "print(t_train.shape)\n",
    "print(x_test.shape)\n",
    "print(t_test.shape)"
   ]
  },
  {
   "cell_type": "code",
   "execution_count": 27,
   "id": "835cdb2e",
   "metadata": {},
   "outputs": [
    {
     "name": "stdout",
     "output_type": "stream",
     "text": [
      "5\n",
      "(784,)\n",
      "(28, 28)\n"
     ]
    }
   ],
   "source": [
    "import sys, os\n",
    "sys.path.append(os.path.join(os.path.dirname(os.getcwd()), 'deeplearning'))\n",
    "import numpy as np\n",
    "from dataset.mnist import load_mnist\n",
    "from PIL import Image\n",
    "\n",
    "def img_show(img):\n",
    "    pil_img = Image.fromarray(np.uint8(img))\n",
    "    pil_img.show()\n",
    "\n",
    "(x_train, t_train), (x_test, t_test) = load_mnist(flatten=True, normalize=False)\n",
    "\n",
    "img = x_train[0]\n",
    "label = t_train[0]\n",
    "print(label)\n",
    "\n",
    "print(img.shape)\n",
    "img = img.reshape(28, 28)\n",
    "print(img.shape)\n",
    "\n",
    "img_show(img)\n",
    "\n",
    "#그림 생성됨"
   ]
  },
  {
   "cell_type": "code",
   "execution_count": 28,
   "id": "cc328932",
   "metadata": {},
   "outputs": [],
   "source": [
    "import pickle\n",
    "\n",
    "def get_data():\n",
    "    (x_train, t_train), (x_test, t_test) = load_mnist(flatten=True, normalize=False, one_hot_label=False)\n",
    "    return x_test, t_test\n",
    "\n",
    "def init_network():\n",
    "    with open(os.path.join(os.path.dirname(os.getcwd()), 'deeplearning-scratch', 'sample_weight.pkl'), 'rb') as f:\n",
    "        network = pickle.load(f)\n",
    "    network['W1'] = torch.tensor(network['W1'], dtype=torch.float32)\n",
    "    network['W2'] = torch.tensor(network['W2'], dtype=torch.float32)\n",
    "    network['W3'] = torch.tensor(network['W3'], dtype=torch.float32)\n",
    "    network['b1'] = torch.tensor(network['b1'], dtype=torch.float32)\n",
    "    network['b2'] = torch.tensor(network['b2'], dtype=torch.float32)\n",
    "    network['b3'] = torch.tensor(network['b3'], dtype=torch.float32)\n",
    "\n",
    "    return network\n",
    "\n",
    "def predict(network, x):\n",
    "    W1, W2, W3 = network['W1'], network['W2'], network['W3']\n",
    "    b1, b2, b3 = network['b1'], network['b2'], network['b3']\n",
    "\n",
    "    a1 = torch.matmul(x, W1) + b1\n",
    "    z1 = sigmoid(a1)\n",
    "    a2 = torch.matmul(z1, W2) + b2\n",
    "    z2 = sigmoid(a2)\n",
    "    a3 = torch.matmul(z2, W3) + b3\n",
    "    y = softmax(a3)\n",
    "\n",
    "    return y"
   ]
  },
  {
   "cell_type": "code",
   "execution_count": null,
   "id": "c0b4509c",
   "metadata": {},
   "outputs": [
    {
     "name": "stdout",
     "output_type": "stream",
     "text": [
      "Accuracy:0.9207\n"
     ]
    }
   ],
   "source": [
    "x, t = get_data()  \n",
    "network = init_network() \n",
    "\n",
    "accuracy_cnt = 0\n",
    "for i in range(len(x)):\n",
    "    x_tensor = torch.tensor(x[i], dtype=torch.float32).reshape(1, -1)\n",
    "    y = predict(network, x_tensor)\n",
    "    p = torch.argmax(y).item() \n",
    "    if p == t[i]: \n",
    "        accuracy_cnt += 1\n",
    "\n",
    "print(\"Accuracy:\" + str(float(accuracy_cnt) / len(x)))"
   ]
  },
  {
   "cell_type": "code",
   "execution_count": 30,
   "id": "7036138a",
   "metadata": {},
   "outputs": [
    {
     "name": "stdout",
     "output_type": "stream",
     "text": [
      "torch.Size([10000, 784])\n",
      "torch.Size([784])\n",
      "torch.Size([784, 50])\n",
      "torch.Size([50, 100])\n",
      "torch.Size([100, 10])\n"
     ]
    }
   ],
   "source": [
    "x, _ = get_data()\n",
    "network = init_network()\n",
    "\n",
    "x_tensor = torch.tensor(x, dtype=torch.float32)\n",
    "\n",
    "W1, W2, W3 = network['W1'], network['W2'], network['W3']\n",
    "\n",
    "print(x_tensor.shape)\n",
    "print(x_tensor[0].shape)\n",
    "print(W1.shape)\n",
    "print(W2.shape)\n",
    "print(W3.shape)"
   ]
  },
  {
   "cell_type": "code",
   "execution_count": null,
   "id": "ff4c4d49",
   "metadata": {},
   "outputs": [
    {
     "name": "stdout",
     "output_type": "stream",
     "text": [
      "Accuracy: 0.9207\n"
     ]
    }
   ],
   "source": [
    "x, t = get_data()\n",
    "network = init_network()\n",
    "\n",
    "batch_size = 100\n",
    "accuracy_cnt = 0\n",
    "\n",
    "for i in range(0, len(x), batch_size):\n",
    "    x_batch = torch.tensor(x[i:i+batch_size], dtype=torch.float32) \n",
    "    y_batch = predict(network, x_batch)\n",
    "    p = torch.argmax(y_batch, axis=1).numpy() \n",
    "    accuracy_cnt += np.sum(p == t[i:i+batch_size]) \n",
    "\n",
    "print(\"Accuracy: \" + str(float(accuracy_cnt) / len(x)))"
   ]
  },
  {
   "cell_type": "code",
   "execution_count": 32,
   "id": "5457e897",
   "metadata": {},
   "outputs": [
    {
     "name": "stdout",
     "output_type": "stream",
     "text": [
      "[0, 1, 2, 3, 4, 5, 6, 7, 8, 9]\n",
      "[0, 3, 6, 9]\n"
     ]
    }
   ],
   "source": [
    "print(list(range(0, 10)))\n",
    "\n",
    "print(list(range(0, 10, 3)))"
   ]
  },
  {
   "cell_type": "code",
   "execution_count": 33,
   "id": "44e68f10",
   "metadata": {},
   "outputs": [
    {
     "name": "stdout",
     "output_type": "stream",
     "text": [
      "[1 2 1 0]\n"
     ]
    }
   ],
   "source": [
    "x = np.array([[0.1, 0.8, 0.1], [0.3, 0.1, 0.6],\n",
    "              [0.2, 0.5, 0.3], [0.8, 0.1, 0.1]])\n",
    "\n",
    "y = np.argmax(x, axis=1)\n",
    "print(y)"
   ]
  },
  {
   "cell_type": "code",
   "execution_count": 34,
   "id": "1af6728d",
   "metadata": {},
   "outputs": [
    {
     "name": "stdout",
     "output_type": "stream",
     "text": [
      "[ True  True False  True]\n"
     ]
    },
    {
     "data": {
      "text/plain": [
       "np.int64(3)"
      ]
     },
     "execution_count": 34,
     "metadata": {},
     "output_type": "execute_result"
    }
   ],
   "source": [
    "y = np.array([1, 2, 1, 0])\n",
    "t = np.array([1, 2, 0, 0])\n",
    "print(y==t)\n",
    "\n",
    "np.sum(y==t)"
   ]
  },
  {
   "cell_type": "code",
   "execution_count": null,
   "id": "ed9245c5",
   "metadata": {},
   "outputs": [],
   "source": []
  }
 ],
 "metadata": {
  "kernelspec": {
   "display_name": "Python 3",
   "language": "python",
   "name": "python3"
  },
  "language_info": {
   "codemirror_mode": {
    "name": "ipython",
    "version": 3
   },
   "file_extension": ".py",
   "mimetype": "text/x-python",
   "name": "python",
   "nbconvert_exporter": "python",
   "pygments_lexer": "ipython3",
   "version": "3.11.9"
  }
 },
 "nbformat": 4,
 "nbformat_minor": 5
}
